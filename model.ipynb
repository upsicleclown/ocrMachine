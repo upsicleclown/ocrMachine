{
 "cells": [
  {
   "cell_type": "code",
   "execution_count": 1,
   "metadata": {},
   "outputs": [],
   "source": [
    "import tensorflow_datasets as tfds\n",
    "import tensorflow as tf\n",
    "import keras"
   ]
  },
  {
   "cell_type": "code",
   "execution_count": 2,
   "metadata": {},
   "outputs": [],
   "source": [
    "def load_prep_data():\n",
    "    emnist_data = tfds.load(\"emnist\", builder_kwargs = {\"config\": \"balanced\"}, batch_size = -1)\n",
    "        \n",
    "    emnist_train, emnist_test = emnist_data[\"train\"], emnist_data[\"test\"]\n",
    "    \n",
    "    emnist_train = tfds.as_numpy(emnist_train)\n",
    "    emnist_test = tfds.as_numpy(emnist_test)\n",
    "    \n",
    "    xtrain, ytrain = emnist_train[\"image\"], emnist_train[\"label\"]\n",
    "    xtest, ytest = emnist_test[\"image\"], emnist_test[\"label\"]\n",
    "    \n",
    "    xtrain = xtrain/255.0\n",
    "    xtest = xtest/255.0\n",
    "    \n",
    "    ytrain = keras.utils.to_categorical(ytrain, num_classes = 47)\n",
    "    ytest = keras.utils.to_categorical(ytest, num_classes = 47)\n",
    "    \n",
    "    return xtrain, ytrain, xtest, ytest"
   ]
  },
  {
   "cell_type": "code",
   "execution_count": 3,
   "metadata": {},
   "outputs": [],
   "source": [
    "xtrain, ytrain, xtest, ytest = load_prep_data()"
   ]
  },
  {
   "cell_type": "code",
   "execution_count": 38,
   "metadata": {},
   "outputs": [],
   "source": [
    "l = keras.layers\n",
    "\n",
    "model = keras.models.Sequential()\n",
    "\n",
    "model.add(l.Conv2D(filters=32, kernel_size=3, activation='relu', input_shape=[28,28,1]))\n",
    "model.add(l.MaxPool2D(pool_size=2))\n",
    "\n",
    "model.add(l.Conv2D(filters=32, kernel_size=3, activation='relu'))\n",
    "model.add(l.MaxPool2D(pool_size=2))\n",
    "          \n",
    "model.add(l.Flatten())\n",
    "model.add(l.Dense(512, activation='relu'))\n",
    "model.add(l.Dropout(0.5))\n",
    "model.add(l.Dense(47, activation='softmax'))\n",
    "\n",
    "model.compile(optimizer=\"adam\", loss='categorical_crossentropy', metrics=['accuracy'])\n",
    "\n"
   ]
  },
  {
   "cell_type": "code",
   "execution_count": 35,
   "metadata": {
    "scrolled": true
   },
   "outputs": [
    {
     "name": "stdout",
     "output_type": "stream",
     "text": [
      "Epoch 1/15\n",
      "3525/3525 [==============================] - 76s 22ms/step - loss: 0.8273 - accuracy: 0.7409 - val_loss: 0.4588 - val_accuracy: 0.8427\n",
      "Epoch 2/15\n",
      "3525/3525 [==============================] - 76s 21ms/step - loss: 0.5161 - accuracy: 0.8254 - val_loss: 0.3904 - val_accuracy: 0.8626\n",
      "Epoch 3/15\n",
      "3525/3525 [==============================] - 83s 23ms/step - loss: 0.4520 - accuracy: 0.8417 - val_loss: 0.3615 - val_accuracy: 0.8727\n",
      "Epoch 4/15\n",
      "3525/3525 [==============================] - 81s 23ms/step - loss: 0.4186 - accuracy: 0.8524 - val_loss: 0.3493 - val_accuracy: 0.8771\n",
      "Epoch 5/15\n",
      "3525/3525 [==============================] - 82s 23ms/step - loss: 0.3977 - accuracy: 0.8596 - val_loss: 0.3462 - val_accuracy: 0.8765\n",
      "Epoch 6/15\n",
      "3525/3525 [==============================] - 87s 25ms/step - loss: 0.3818 - accuracy: 0.8633 - val_loss: 0.3419 - val_accuracy: 0.8774\n",
      "Epoch 7/15\n",
      "3525/3525 [==============================] - 87s 25ms/step - loss: 0.3668 - accuracy: 0.8666 - val_loss: 0.3332 - val_accuracy: 0.8852\n",
      "Epoch 8/15\n",
      "3525/3525 [==============================] - 90s 25ms/step - loss: 0.3562 - accuracy: 0.8716 - val_loss: 0.3309 - val_accuracy: 0.8846\n",
      "Epoch 9/15\n",
      "3525/3525 [==============================] - 88s 25ms/step - loss: 0.3494 - accuracy: 0.8723 - val_loss: 0.3298 - val_accuracy: 0.8823\n",
      "Epoch 10/15\n",
      "3525/3525 [==============================] - 89s 25ms/step - loss: 0.3420 - accuracy: 0.8743 - val_loss: 0.3280 - val_accuracy: 0.8862\n",
      "Epoch 11/15\n",
      "3525/3525 [==============================] - 88s 25ms/step - loss: 0.3344 - accuracy: 0.8771 - val_loss: 0.3186 - val_accuracy: 0.8878\n",
      "Epoch 12/15\n",
      "3525/3525 [==============================] - 88s 25ms/step - loss: 0.3270 - accuracy: 0.8797 - val_loss: 0.3294 - val_accuracy: 0.8856\n",
      "Epoch 13/15\n",
      "3525/3525 [==============================] - 88s 25ms/step - loss: 0.3229 - accuracy: 0.8802 - val_loss: 0.3292 - val_accuracy: 0.8851\n",
      "Epoch 14/15\n",
      "3525/3525 [==============================] - 88s 25ms/step - loss: 0.3185 - accuracy: 0.8806 - val_loss: 0.3298 - val_accuracy: 0.8864\n",
      "Epoch 15/15\n",
      "3525/3525 [==============================] - 90s 26ms/step - loss: 0.3114 - accuracy: 0.8831 - val_loss: 0.3190 - val_accuracy: 0.8877\n"
     ]
    },
    {
     "data": {
      "text/plain": [
       "<tensorflow.python.keras.callbacks.History at 0x1eaaa6f25e0>"
      ]
     },
     "execution_count": 35,
     "metadata": {},
     "output_type": "execute_result"
    }
   ],
   "source": [
    "model.fit(x = xtrain, y = ytrain, validation_data = (xtest, ytest), epochs = 15)#extra dropout layer"
   ]
  },
  {
   "cell_type": "code",
   "execution_count": 37,
   "metadata": {
    "scrolled": true
   },
   "outputs": [
    {
     "name": "stdout",
     "output_type": "stream",
     "text": [
      "Epoch 1/15\n",
      "441/441 [==============================] - 58s 132ms/step - loss: 0.2555 - accuracy: 0.9007 - val_loss: 0.3136 - val_accuracy: 0.8928\n",
      "Epoch 2/15\n",
      "441/441 [==============================] - 58s 131ms/step - loss: 0.2551 - accuracy: 0.9008 - val_loss: 0.3122 - val_accuracy: 0.8939\n",
      "Epoch 3/15\n",
      "441/441 [==============================] - 58s 132ms/step - loss: 0.2534 - accuracy: 0.9011 - val_loss: 0.3127 - val_accuracy: 0.8939\n",
      "Epoch 4/15\n",
      "441/441 [==============================] - 59s 134ms/step - loss: 0.2498 - accuracy: 0.9026 - val_loss: 0.3122 - val_accuracy: 0.8924\n",
      "Epoch 5/15\n",
      "441/441 [==============================] - 58s 132ms/step - loss: 0.2479 - accuracy: 0.9024 - val_loss: 0.3151 - val_accuracy: 0.8937\n",
      "Epoch 6/15\n",
      "441/441 [==============================] - 59s 133ms/step - loss: 0.2464 - accuracy: 0.9037 - val_loss: 0.3149 - val_accuracy: 0.8927\n",
      "Epoch 7/15\n",
      "441/441 [==============================] - 60s 135ms/step - loss: 0.2463 - accuracy: 0.9033 - val_loss: 0.3175 - val_accuracy: 0.8935\n",
      "Epoch 8/15\n",
      "441/441 [==============================] - 59s 133ms/step - loss: 0.2432 - accuracy: 0.9039 - val_loss: 0.3166 - val_accuracy: 0.8906\n",
      "Epoch 9/15\n",
      "441/441 [==============================] - 58s 132ms/step - loss: 0.2417 - accuracy: 0.9050 - val_loss: 0.3150 - val_accuracy: 0.8933\n",
      "Epoch 10/15\n",
      "441/441 [==============================] - 58s 133ms/step - loss: 0.2411 - accuracy: 0.9054 - val_loss: 0.3163 - val_accuracy: 0.8907\n",
      "Epoch 11/15\n",
      "441/441 [==============================] - 61s 138ms/step - loss: 0.2395 - accuracy: 0.9052 - val_loss: 0.3174 - val_accuracy: 0.8930\n",
      "Epoch 12/15\n",
      "441/441 [==============================] - 58s 132ms/step - loss: 0.2382 - accuracy: 0.9049 - val_loss: 0.3164 - val_accuracy: 0.8954\n",
      "Epoch 13/15\n",
      "441/441 [==============================] - 59s 133ms/step - loss: 0.2345 - accuracy: 0.9074 - val_loss: 0.3239 - val_accuracy: 0.8922\n",
      "Epoch 14/15\n",
      "441/441 [==============================] - 59s 135ms/step - loss: 0.2332 - accuracy: 0.9077 - val_loss: 0.3206 - val_accuracy: 0.8938\n",
      "Epoch 15/15\n",
      "441/441 [==============================] - 65s 147ms/step - loss: 0.2340 - accuracy: 0.9074 - val_loss: 0.3214 - val_accuracy: 0.8927\n"
     ]
    },
    {
     "data": {
      "text/plain": [
       "<tensorflow.python.keras.callbacks.History at 0x1eaab297ac0>"
      ]
     },
     "execution_count": 37,
     "metadata": {},
     "output_type": "execute_result"
    }
   ],
   "source": [
    "model.fit(x = xtrain, y = ytrain, validation_data = (xtest, ytest), epochs = 15, batch_size = 256)#extra dropout layer"
   ]
  },
  {
   "cell_type": "code",
   "execution_count": 39,
   "metadata": {
    "collapsed": true
   },
   "outputs": [
    {
     "name": "stdout",
     "output_type": "stream",
     "text": [
      "Epoch 1/15\n",
      "3525/3525 [==============================] - 85s 24ms/step - loss: 0.7585 - accuracy: 0.7595 - val_loss: 0.4486 - val_accuracy: 0.8509\n",
      "Epoch 2/15\n",
      "3525/3525 [==============================] - 90s 26ms/step - loss: 0.4564 - accuracy: 0.8440 - val_loss: 0.3808 - val_accuracy: 0.8674\n",
      "Epoch 3/15\n",
      "3525/3525 [==============================] - 83s 23ms/step - loss: 0.3990 - accuracy: 0.8594 - val_loss: 0.3625 - val_accuracy: 0.8692\n",
      "Epoch 4/15\n",
      "3525/3525 [==============================] - 94s 27ms/step - loss: 0.3635 - accuracy: 0.8698 - val_loss: 0.3472 - val_accuracy: 0.8772\n",
      "Epoch 5/15\n",
      "3525/3525 [==============================] - 93s 26ms/step - loss: 0.3382 - accuracy: 0.8762 - val_loss: 0.3416 - val_accuracy: 0.8794\n",
      "Epoch 6/15\n",
      "3525/3525 [==============================] - 88s 25ms/step - loss: 0.3193 - accuracy: 0.8816 - val_loss: 0.3408 - val_accuracy: 0.8811\n",
      "Epoch 7/15\n",
      "3525/3525 [==============================] - 86s 24ms/step - loss: 0.3007 - accuracy: 0.8884 - val_loss: 0.3415 - val_accuracy: 0.8787\n",
      "Epoch 8/15\n",
      "3525/3525 [==============================] - 87s 25ms/step - loss: 0.2897 - accuracy: 0.8916 - val_loss: 0.3543 - val_accuracy: 0.8822\n",
      "Epoch 9/15\n",
      "3525/3525 [==============================] - 88s 25ms/step - loss: 0.2776 - accuracy: 0.8939 - val_loss: 0.3413 - val_accuracy: 0.8852\n",
      "Epoch 10/15\n",
      "3525/3525 [==============================] - 84s 24ms/step - loss: 0.2670 - accuracy: 0.8973 - val_loss: 0.3401 - val_accuracy: 0.8840\n",
      "Epoch 11/15\n",
      "3525/3525 [==============================] - 84s 24ms/step - loss: 0.2553 - accuracy: 0.9011 - val_loss: 0.3612 - val_accuracy: 0.8797\n",
      "Epoch 12/15\n",
      "3525/3525 [==============================] - 85s 24ms/step - loss: 0.2481 - accuracy: 0.9034 - val_loss: 0.3555 - val_accuracy: 0.8839\n",
      "Epoch 13/15\n",
      "3525/3525 [==============================] - 84s 24ms/step - loss: 0.2396 - accuracy: 0.9064 - val_loss: 0.3620 - val_accuracy: 0.8849\n",
      "Epoch 14/15\n",
      "3525/3525 [==============================] - 88s 25ms/step - loss: 0.2310 - accuracy: 0.9082 - val_loss: 0.3569 - val_accuracy: 0.8848\n",
      "Epoch 15/15\n",
      "3525/3525 [==============================] - 87s 25ms/step - loss: 0.2243 - accuracy: 0.9105 - val_loss: 0.3724 - val_accuracy: 0.8809\n"
     ]
    },
    {
     "data": {
      "text/plain": [
       "<tensorflow.python.keras.callbacks.History at 0x1eaaab30f70>"
      ]
     },
     "execution_count": 39,
     "metadata": {},
     "output_type": "execute_result"
    }
   ],
   "source": [
    "model.fit(x = xtrain, y = ytrain, validation_data = (xtest, ytest), epochs = 15)"
   ]
  },
  {
   "cell_type": "code",
   "execution_count": 40,
   "metadata": {
    "collapsed": true
   },
   "outputs": [
    {
     "name": "stdout",
     "output_type": "stream",
     "text": [
      "Epoch 1/15\n",
      "441/441 [==============================] - 50s 113ms/step - loss: 0.1834 - accuracy: 0.9263 - val_loss: 0.3715 - val_accuracy: 0.8883\n",
      "Epoch 2/15\n",
      "441/441 [==============================] - 54s 123ms/step - loss: 0.1705 - accuracy: 0.9308 - val_loss: 0.3758 - val_accuracy: 0.8871\n",
      "Epoch 3/15\n",
      "441/441 [==============================] - 57s 129ms/step - loss: 0.1622 - accuracy: 0.9348 - val_loss: 0.3824 - val_accuracy: 0.8874\n",
      "Epoch 4/15\n",
      "441/441 [==============================] - 57s 129ms/step - loss: 0.1582 - accuracy: 0.9356 - val_loss: 0.3833 - val_accuracy: 0.8880\n",
      "Epoch 5/15\n",
      "441/441 [==============================] - 58s 132ms/step - loss: 0.1542 - accuracy: 0.9376 - val_loss: 0.3923 - val_accuracy: 0.8865\n",
      "Epoch 6/15\n",
      "441/441 [==============================] - 58s 131ms/step - loss: 0.1495 - accuracy: 0.9385 - val_loss: 0.4017 - val_accuracy: 0.8847\n",
      "Epoch 7/15\n",
      "441/441 [==============================] - 58s 131ms/step - loss: 0.1472 - accuracy: 0.9386 - val_loss: 0.4021 - val_accuracy: 0.8853\n",
      "Epoch 8/15\n",
      "441/441 [==============================] - 58s 132ms/step - loss: 0.1459 - accuracy: 0.9399 - val_loss: 0.4079 - val_accuracy: 0.8864\n",
      "Epoch 9/15\n",
      "441/441 [==============================] - 58s 132ms/step - loss: 0.1415 - accuracy: 0.9417 - val_loss: 0.4197 - val_accuracy: 0.8882\n",
      "Epoch 10/15\n",
      "441/441 [==============================] - 58s 131ms/step - loss: 0.1401 - accuracy: 0.9427 - val_loss: 0.4196 - val_accuracy: 0.8845\n",
      "Epoch 11/15\n",
      "441/441 [==============================] - 58s 132ms/step - loss: 0.1375 - accuracy: 0.9432 - val_loss: 0.4264 - val_accuracy: 0.8834\n",
      "Epoch 12/15\n",
      "441/441 [==============================] - 57s 130ms/step - loss: 0.1339 - accuracy: 0.9441 - val_loss: 0.4508 - val_accuracy: 0.8845\n",
      "Epoch 13/15\n",
      "441/441 [==============================] - 63s 142ms/step - loss: 0.1307 - accuracy: 0.9459 - val_loss: 0.4568 - val_accuracy: 0.8844\n",
      "Epoch 14/15\n",
      "441/441 [==============================] - 58s 131ms/step - loss: 0.1296 - accuracy: 0.9464 - val_loss: 0.4546 - val_accuracy: 0.8852\n",
      "Epoch 15/15\n",
      "441/441 [==============================] - 59s 133ms/step - loss: 0.1270 - accuracy: 0.9484 - val_loss: 0.4736 - val_accuracy: 0.8856\n"
     ]
    },
    {
     "data": {
      "text/plain": [
       "<tensorflow.python.keras.callbacks.History at 0x1eaab6f2a90>"
      ]
     },
     "execution_count": 40,
     "metadata": {},
     "output_type": "execute_result"
    }
   ],
   "source": [
    "model.fit(x = xtrain, y = ytrain, validation_data = (xtest, ytest), epochs = 15, batch_size = 256)"
   ]
  },
  {
   "cell_type": "code",
   "execution_count": 74,
   "metadata": {},
   "outputs": [],
   "source": [
    "l = keras.layers\n",
    "\n",
    "model2 = keras.models.Sequential()\n",
    "\n",
    "model2.add(l.Conv2D(filters=64, kernel_size=7, activation='relu', padding = \"same\", input_shape=[28,28,1]))\n",
    "model2.add(l.MaxPool2D(pool_size=2))\n",
    "\n",
    "model2.add(l.Conv2D(filters=128, kernel_size=3, activation='relu', padding = \"same\"))\n",
    "model2.add(l.Conv2D(filters=128, kernel_size=3, activation='relu'))\n",
    "model2.add(l.MaxPool2D(pool_size=2))\n",
    "\n",
    "model2.add(l.Conv2D(filters=256, kernel_size=3, activation='relu', padding = \"same\"))\n",
    "model2.add(l.Conv2D(filters=256, kernel_size=3, activation='relu', padding = \"same\"))\n",
    "model2.add(l.MaxPool2D(pool_size=2))\n",
    "          \n",
    "model2.add(l.Flatten())\n",
    "model2.add(l.Dense(256, activation='relu'))\n",
    "model2.add(l.Dropout(0.5))\n",
    "model2.add(l.Dense(128, activation='relu'))\n",
    "model2.add(l.Dropout(0.5))\n",
    "model2.add(l.Dense(47, activation='softmax'))\n",
    "\n",
    "model2.compile(optimizer=\"adam\", loss='categorical_crossentropy', metrics=['accuracy'])\n"
   ]
  },
  {
   "cell_type": "code",
   "execution_count": 71,
   "metadata": {
    "collapsed": true
   },
   "outputs": [
    {
     "name": "stdout",
     "output_type": "stream",
     "text": [
      "Epoch 1/15\n",
      "441/441 [==============================] - 860s 2s/step - loss: 1.5067 - accuracy: 0.5663 - val_loss: 0.4737 - val_accuracy: 0.8417\n",
      "Epoch 2/15\n",
      "441/441 [==============================] - 874s 2s/step - loss: 0.5739 - accuracy: 0.8145 - val_loss: 0.3809 - val_accuracy: 0.8719\n",
      "Epoch 3/15\n",
      "441/441 [==============================] - 1161s 3s/step - loss: 0.4732 - accuracy: 0.8458 - val_loss: 0.3566 - val_accuracy: 0.8807\n",
      "Epoch 4/15\n",
      "441/441 [==============================] - 1137s 3s/step - loss: 0.4174 - accuracy: 0.8603 - val_loss: 0.3507 - val_accuracy: 0.8831\n",
      "Epoch 5/15\n",
      "441/441 [==============================] - 1021s 2s/step - loss: 0.3828 - accuracy: 0.8703 - val_loss: 0.3540 - val_accuracy: 0.8812\n",
      "Epoch 6/15\n",
      "441/441 [==============================] - 1280s 3s/step - loss: 0.3571 - accuracy: 0.8773 - val_loss: 0.3219 - val_accuracy: 0.8873\n",
      "Epoch 7/15\n",
      "441/441 [==============================] - 1369s 3s/step - loss: 0.3366 - accuracy: 0.8827 - val_loss: 0.3368 - val_accuracy: 0.8878\n",
      "Epoch 8/15\n",
      "441/441 [==============================] - 1013s 2s/step - loss: 0.3195 - accuracy: 0.8863 - val_loss: 0.3289 - val_accuracy: 0.8889\n",
      "Epoch 9/15\n",
      "441/441 [==============================] - 1120s 3s/step - loss: 0.3028 - accuracy: 0.8911 - val_loss: 0.3356 - val_accuracy: 0.8895\n",
      "Epoch 10/15\n",
      "441/441 [==============================] - 1606s 4s/step - loss: 0.2918 - accuracy: 0.8937 - val_loss: 0.3361 - val_accuracy: 0.8916\n",
      "Epoch 11/15\n",
      "441/441 [==============================] - 1575s 4s/step - loss: 0.2752 - accuracy: 0.8984 - val_loss: 0.3371 - val_accuracy: 0.8930\n",
      "Epoch 12/15\n",
      "441/441 [==============================] - 1538s 3s/step - loss: 0.2656 - accuracy: 0.9013 - val_loss: 0.3499 - val_accuracy: 0.8907\n",
      "Epoch 13/15\n",
      "441/441 [==============================] - 1535s 3s/step - loss: 0.2565 - accuracy: 0.9033 - val_loss: 0.3468 - val_accuracy: 0.8904\n",
      "Epoch 14/15\n",
      "441/441 [==============================] - 1649s 4s/step - loss: 0.2432 - accuracy: 0.9067 - val_loss: 0.3565 - val_accuracy: 0.8926\n",
      "Epoch 15/15\n",
      "441/441 [==============================] - 1001s 2s/step - loss: 0.2367 - accuracy: 0.9104 - val_loss: 0.3540 - val_accuracy: 0.8898\n"
     ]
    },
    {
     "data": {
      "text/plain": [
       "<tensorflow.python.keras.callbacks.History at 0x1eaaf275820>"
      ]
     },
     "execution_count": 71,
     "metadata": {},
     "output_type": "execute_result"
    }
   ],
   "source": [
    "model2.fit(x = xtrain, y = ytrain, validation_data = (xtest, ytest), epochs = 15, batch_size = 256)"
   ]
  },
  {
   "cell_type": "code",
   "execution_count": null,
   "metadata": {},
   "outputs": [],
   "source": [
    "l = keras.layers\n",
    "\n",
    "model3 = keras.models.Sequential()\n",
    "\n",
    "model3.add(l.Conv2D(filters=64, kernel_size=3, activation='relu', input_shape=[28,28,1]))\n",
    "model3.add(l.MaxPool2D(pool_size=2))\n",
    "\n",
    "model3.add(l.Conv2D(filters=128, kernel_size=3, activation='relu'))\n",
    "model3.add(l.MaxPool2D(pool_size=2))\n",
    "          \n",
    "model3.add(l.Flatten())\n",
    "model3.add(l.Dense(512, activation='relu'))\n",
    "model3.add(l.Dropout(0.5))\n",
    "model3.add(l.Dense(47, activation='softmax'))\n",
    "\n",
    "model3.compile(optimizer=\"adam\", loss='categorical_crossentropy', metrics=['accuracy'])"
   ]
  },
  {
   "cell_type": "code",
   "execution_count": null,
   "metadata": {},
   "outputs": [],
   "source": []
  }
 ],
 "metadata": {
  "kernelspec": {
   "display_name": "Python 3",
   "language": "python",
   "name": "python3"
  },
  "language_info": {
   "codemirror_mode": {
    "name": "ipython",
    "version": 3
   },
   "file_extension": ".py",
   "mimetype": "text/x-python",
   "name": "python",
   "nbconvert_exporter": "python",
   "pygments_lexer": "ipython3",
   "version": "3.8.3"
  }
 },
 "nbformat": 4,
 "nbformat_minor": 4
}
